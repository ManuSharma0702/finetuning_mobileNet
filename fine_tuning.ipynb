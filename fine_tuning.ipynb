{
  "cells": [
    {
      "cell_type": "markdown",
      "metadata": {
        "id": "view-in-github",
        "colab_type": "text"
      },
      "source": [
        "<a href=\"https://colab.research.google.com/github/ManuSharma0702/finetuning_mobileNet/blob/main/fine_tuning.ipynb\" target=\"_parent\"><img src=\"https://colab.research.google.com/assets/colab-badge.svg\" alt=\"Open In Colab\"/></a>"
      ]
    },
    {
      "cell_type": "code",
      "execution_count": null,
      "metadata": {
        "id": "3E4KdVMLiiMy"
      },
      "outputs": [],
      "source": [
        "import numpy as np\n",
        "import tensorflow as tf\n",
        "from tensorflow import keras\n",
        "from tensorflow.keras.layers import Dense, Activation\n",
        "from tensorflow.keras.optimizers import Adam\n",
        "from tensorflow.keras.metrics import categorical_crossentropy\n",
        "from tensorflow.keras.preprocessing.image import ImageDataGenerator\n",
        "from tensorflow.keras.preprocessing import image\n",
        "from tensorflow.keras.models import Model\n",
        "from tensorflow.keras.applications import imagenet_utils\n",
        "from sklearn.metrics import confusion_matrix\n",
        "import itertools\n",
        "import os\n",
        "import shutil\n",
        "import random\n",
        "import matplotlib.pyplot as plt\n",
        "%matplotlib inline"
      ]
    },
    {
      "cell_type": "markdown",
      "source": [],
      "metadata": {
        "id": "lNSktGgN9gI7"
      }
    },
    {
      "cell_type": "code",
      "execution_count": null,
      "metadata": {
        "colab": {
          "base_uri": "https://localhost:8080/"
        },
        "id": "Kh-nE0_uneco",
        "outputId": "03515b34-0c67-4067-bf63-439e0464ebb0"
      },
      "outputs": [
        {
          "output_type": "stream",
          "name": "stdout",
          "text": [
            "--2024-07-04 23:03:19--  https://drive.usercontent.google.com/download?id=1OGKii4EcgEr1i1goEnAeHW4soEg484Hr&export=download&authuser=0&confirm=t&uuid=86ccb189-e445-4455-8820-45d48831d250&at=APZUnTWubBhtH667k9NL3grNBTn_:1720128287970\n",
            "Resolving drive.usercontent.google.com (drive.usercontent.google.com)... 142.251.2.132, 2607:f8b0:4023:c0d::84\n",
            "Connecting to drive.usercontent.google.com (drive.usercontent.google.com)|142.251.2.132|:443... connected.\n",
            "HTTP request sent, awaiting response... 200 OK\n",
            "Length: 24457047 (23M) [application/octet-stream]\n",
            "Saving to: ‘download?id=1OGKii4EcgEr1i1goEnAeHW4soEg484Hr&export=download&authuser=0&confirm=t&uuid=86ccb189-e445-4455-8820-45d48831d250&at=APZUnTWubBhtH667k9NL3grNBTn_:1720128287970’\n",
            "\n",
            "download?id=1OGKii4 100%[===================>]  23.32M  17.7MB/s    in 1.3s    \n",
            "\n",
            "2024-07-04 23:03:34 (17.7 MB/s) - ‘download?id=1OGKii4EcgEr1i1goEnAeHW4soEg484Hr&export=download&authuser=0&confirm=t&uuid=86ccb189-e445-4455-8820-45d48831d250&at=APZUnTWubBhtH667k9NL3grNBTn_:1720128287970’ saved [24457047/24457047]\n",
            "\n"
          ]
        }
      ],
      "source": [
        "!wget \"https://drive.usercontent.google.com/download?id=1OGKii4EcgEr1i1goEnAeHW4soEg484Hr&export=download&authuser=0&confirm=t&uuid=86ccb189-e445-4455-8820-45d48831d250&at=APZUnTWubBhtH667k9NL3grNBTn_:1720128287970\""
      ]
    },
    {
      "cell_type": "code",
      "execution_count": null,
      "metadata": {
        "id": "lfaZnvvUo-ZR"
      },
      "outputs": [],
      "source": [
        "import zipfile\n",
        "with zipfile.ZipFile('dataset.zip', 'r') as zip_ref:\n",
        "    zip_ref.extractall('data')\n"
      ]
    },
    {
      "cell_type": "code",
      "execution_count": null,
      "metadata": {
        "colab": {
          "base_uri": "https://localhost:8080/"
        },
        "id": "OcAOqzAMprrP",
        "outputId": "72f5771f-b930-482f-c8bc-0702a77d6c4b"
      },
      "outputs": [
        {
          "output_type": "stream",
          "name": "stdout",
          "text": [
            "The current working directory is: /content\n"
          ]
        }
      ],
      "source": [
        "import os\n",
        "\n",
        "current_directory = os.getcwd()\n",
        "\n",
        "print(f'The current working directory is: {current_directory}')"
      ]
    },
    {
      "cell_type": "code",
      "execution_count": null,
      "metadata": {
        "id": "zcsKTfljp6Ln"
      },
      "outputs": [],
      "source": [
        "os.chdir(\"/content/data\")"
      ]
    },
    {
      "cell_type": "code",
      "execution_count": null,
      "metadata": {
        "id": "rUD4hGZup9pf"
      },
      "outputs": [],
      "source": [
        "if os.path.isdir('train/0/') is False:\n",
        "  os.mkdir('train')\n",
        "  os.mkdir('valid')\n",
        "  os.mkdir('test')\n"
      ]
    },
    {
      "cell_type": "code",
      "execution_count": null,
      "metadata": {
        "id": "7D8HZ2vCqRPP"
      },
      "outputs": [],
      "source": [
        "for i in range(10):\n",
        "  shutil.move(f'{i}', \"train\")\n",
        "  os.mkdir(f'valid/{i}')\n",
        "  os.mkdir(f'test/{i}')\n",
        "  valid_samples = random.sample(os.listdir(f'train/{i}'), 30)\n",
        "  for j in valid_samples:\n",
        "    shutil.move(f'train/{i}/{j}', f'valid/{i}')\n",
        "\n",
        "  test_samples = random.sample(os.listdir(f'train/{i}'), 5)\n",
        "  for j in test_samples:\n",
        "    shutil.move(f'train/{i}/{j}', f'test/{i}')\n",
        "os.chdir('../..')\n"
      ]
    },
    {
      "cell_type": "code",
      "source": [
        "train_path = 'content/data/train'\n",
        "valid_path = 'content/data/valid'\n",
        "test_path = 'content/data/test'"
      ],
      "metadata": {
        "id": "MD-vIqnz-PrE"
      },
      "execution_count": null,
      "outputs": []
    },
    {
      "cell_type": "code",
      "execution_count": null,
      "metadata": {
        "id": "HXw4_NVtqMtl",
        "colab": {
          "base_uri": "https://localhost:8080/"
        },
        "outputId": "1110864f-bf9d-44e4-cd07-e56311e2916b"
      },
      "outputs": [
        {
          "output_type": "stream",
          "name": "stdout",
          "text": [
            "Found 1712 images belonging to 10 classes.\n",
            "Found 300 images belonging to 10 classes.\n",
            "Found 50 images belonging to 10 classes.\n"
          ]
        }
      ],
      "source": [
        "train_batches = ImageDataGenerator(preprocessing_function=tf.keras.applications.mobilenet.preprocess_input).flow_from_directory(\n",
        "    directory=train_path, target_size=(224,224), batch_size=10)\n",
        "valid_batches = ImageDataGenerator(preprocessing_function=tf.keras.applications.mobilenet.preprocess_input).flow_from_directory(\n",
        "    directory=valid_path, target_size=(224,224), batch_size=10)\n",
        "test_batches = ImageDataGenerator(preprocessing_function=tf.keras.applications.mobilenet.preprocess_input).flow_from_directory(\n",
        "    directory=test_path, target_size=(224,224), batch_size=10, shuffle=False)"
      ]
    },
    {
      "cell_type": "code",
      "source": [
        "mobile = tf.keras.applications.mobilenet.MobileNet()\n",
        "mobile.summary()"
      ],
      "metadata": {
        "colab": {
          "base_uri": "https://localhost:8080/"
        },
        "id": "tJTZFq0z-XqT",
        "outputId": "b712c757-2ffb-4b34-99f3-8eec5b25009b"
      },
      "execution_count": null,
      "outputs": [
        {
          "output_type": "stream",
          "name": "stdout",
          "text": [
            "Model: \"mobilenet_1.00_224\"\n",
            "_________________________________________________________________\n",
            " Layer (type)                Output Shape              Param #   \n",
            "=================================================================\n",
            " input_2 (InputLayer)        [(None, 224, 224, 3)]     0         \n",
            "                                                                 \n",
            " conv1 (Conv2D)              (None, 112, 112, 32)      864       \n",
            "                                                                 \n",
            " conv1_bn (BatchNormalizati  (None, 112, 112, 32)      128       \n",
            " on)                                                             \n",
            "                                                                 \n",
            " conv1_relu (ReLU)           (None, 112, 112, 32)      0         \n",
            "                                                                 \n",
            " conv_dw_1 (DepthwiseConv2D  (None, 112, 112, 32)      288       \n",
            " )                                                               \n",
            "                                                                 \n",
            " conv_dw_1_bn (BatchNormali  (None, 112, 112, 32)      128       \n",
            " zation)                                                         \n",
            "                                                                 \n",
            " conv_dw_1_relu (ReLU)       (None, 112, 112, 32)      0         \n",
            "                                                                 \n",
            " conv_pw_1 (Conv2D)          (None, 112, 112, 64)      2048      \n",
            "                                                                 \n",
            " conv_pw_1_bn (BatchNormali  (None, 112, 112, 64)      256       \n",
            " zation)                                                         \n",
            "                                                                 \n",
            " conv_pw_1_relu (ReLU)       (None, 112, 112, 64)      0         \n",
            "                                                                 \n",
            " conv_pad_2 (ZeroPadding2D)  (None, 113, 113, 64)      0         \n",
            "                                                                 \n",
            " conv_dw_2 (DepthwiseConv2D  (None, 56, 56, 64)        576       \n",
            " )                                                               \n",
            "                                                                 \n",
            " conv_dw_2_bn (BatchNormali  (None, 56, 56, 64)        256       \n",
            " zation)                                                         \n",
            "                                                                 \n",
            " conv_dw_2_relu (ReLU)       (None, 56, 56, 64)        0         \n",
            "                                                                 \n",
            " conv_pw_2 (Conv2D)          (None, 56, 56, 128)       8192      \n",
            "                                                                 \n",
            " conv_pw_2_bn (BatchNormali  (None, 56, 56, 128)       512       \n",
            " zation)                                                         \n",
            "                                                                 \n",
            " conv_pw_2_relu (ReLU)       (None, 56, 56, 128)       0         \n",
            "                                                                 \n",
            " conv_dw_3 (DepthwiseConv2D  (None, 56, 56, 128)       1152      \n",
            " )                                                               \n",
            "                                                                 \n",
            " conv_dw_3_bn (BatchNormali  (None, 56, 56, 128)       512       \n",
            " zation)                                                         \n",
            "                                                                 \n",
            " conv_dw_3_relu (ReLU)       (None, 56, 56, 128)       0         \n",
            "                                                                 \n",
            " conv_pw_3 (Conv2D)          (None, 56, 56, 128)       16384     \n",
            "                                                                 \n",
            " conv_pw_3_bn (BatchNormali  (None, 56, 56, 128)       512       \n",
            " zation)                                                         \n",
            "                                                                 \n",
            " conv_pw_3_relu (ReLU)       (None, 56, 56, 128)       0         \n",
            "                                                                 \n",
            " conv_pad_4 (ZeroPadding2D)  (None, 57, 57, 128)       0         \n",
            "                                                                 \n",
            " conv_dw_4 (DepthwiseConv2D  (None, 28, 28, 128)       1152      \n",
            " )                                                               \n",
            "                                                                 \n",
            " conv_dw_4_bn (BatchNormali  (None, 28, 28, 128)       512       \n",
            " zation)                                                         \n",
            "                                                                 \n",
            " conv_dw_4_relu (ReLU)       (None, 28, 28, 128)       0         \n",
            "                                                                 \n",
            " conv_pw_4 (Conv2D)          (None, 28, 28, 256)       32768     \n",
            "                                                                 \n",
            " conv_pw_4_bn (BatchNormali  (None, 28, 28, 256)       1024      \n",
            " zation)                                                         \n",
            "                                                                 \n",
            " conv_pw_4_relu (ReLU)       (None, 28, 28, 256)       0         \n",
            "                                                                 \n",
            " conv_dw_5 (DepthwiseConv2D  (None, 28, 28, 256)       2304      \n",
            " )                                                               \n",
            "                                                                 \n",
            " conv_dw_5_bn (BatchNormali  (None, 28, 28, 256)       1024      \n",
            " zation)                                                         \n",
            "                                                                 \n",
            " conv_dw_5_relu (ReLU)       (None, 28, 28, 256)       0         \n",
            "                                                                 \n",
            " conv_pw_5 (Conv2D)          (None, 28, 28, 256)       65536     \n",
            "                                                                 \n",
            " conv_pw_5_bn (BatchNormali  (None, 28, 28, 256)       1024      \n",
            " zation)                                                         \n",
            "                                                                 \n",
            " conv_pw_5_relu (ReLU)       (None, 28, 28, 256)       0         \n",
            "                                                                 \n",
            " conv_pad_6 (ZeroPadding2D)  (None, 29, 29, 256)       0         \n",
            "                                                                 \n",
            " conv_dw_6 (DepthwiseConv2D  (None, 14, 14, 256)       2304      \n",
            " )                                                               \n",
            "                                                                 \n",
            " conv_dw_6_bn (BatchNormali  (None, 14, 14, 256)       1024      \n",
            " zation)                                                         \n",
            "                                                                 \n",
            " conv_dw_6_relu (ReLU)       (None, 14, 14, 256)       0         \n",
            "                                                                 \n",
            " conv_pw_6 (Conv2D)          (None, 14, 14, 512)       131072    \n",
            "                                                                 \n",
            " conv_pw_6_bn (BatchNormali  (None, 14, 14, 512)       2048      \n",
            " zation)                                                         \n",
            "                                                                 \n",
            " conv_pw_6_relu (ReLU)       (None, 14, 14, 512)       0         \n",
            "                                                                 \n",
            " conv_dw_7 (DepthwiseConv2D  (None, 14, 14, 512)       4608      \n",
            " )                                                               \n",
            "                                                                 \n",
            " conv_dw_7_bn (BatchNormali  (None, 14, 14, 512)       2048      \n",
            " zation)                                                         \n",
            "                                                                 \n",
            " conv_dw_7_relu (ReLU)       (None, 14, 14, 512)       0         \n",
            "                                                                 \n",
            " conv_pw_7 (Conv2D)          (None, 14, 14, 512)       262144    \n",
            "                                                                 \n",
            " conv_pw_7_bn (BatchNormali  (None, 14, 14, 512)       2048      \n",
            " zation)                                                         \n",
            "                                                                 \n",
            " conv_pw_7_relu (ReLU)       (None, 14, 14, 512)       0         \n",
            "                                                                 \n",
            " conv_dw_8 (DepthwiseConv2D  (None, 14, 14, 512)       4608      \n",
            " )                                                               \n",
            "                                                                 \n",
            " conv_dw_8_bn (BatchNormali  (None, 14, 14, 512)       2048      \n",
            " zation)                                                         \n",
            "                                                                 \n",
            " conv_dw_8_relu (ReLU)       (None, 14, 14, 512)       0         \n",
            "                                                                 \n",
            " conv_pw_8 (Conv2D)          (None, 14, 14, 512)       262144    \n",
            "                                                                 \n",
            " conv_pw_8_bn (BatchNormali  (None, 14, 14, 512)       2048      \n",
            " zation)                                                         \n",
            "                                                                 \n",
            " conv_pw_8_relu (ReLU)       (None, 14, 14, 512)       0         \n",
            "                                                                 \n",
            " conv_dw_9 (DepthwiseConv2D  (None, 14, 14, 512)       4608      \n",
            " )                                                               \n",
            "                                                                 \n",
            " conv_dw_9_bn (BatchNormali  (None, 14, 14, 512)       2048      \n",
            " zation)                                                         \n",
            "                                                                 \n",
            " conv_dw_9_relu (ReLU)       (None, 14, 14, 512)       0         \n",
            "                                                                 \n",
            " conv_pw_9 (Conv2D)          (None, 14, 14, 512)       262144    \n",
            "                                                                 \n",
            " conv_pw_9_bn (BatchNormali  (None, 14, 14, 512)       2048      \n",
            " zation)                                                         \n",
            "                                                                 \n",
            " conv_pw_9_relu (ReLU)       (None, 14, 14, 512)       0         \n",
            "                                                                 \n",
            " conv_dw_10 (DepthwiseConv2  (None, 14, 14, 512)       4608      \n",
            " D)                                                              \n",
            "                                                                 \n",
            " conv_dw_10_bn (BatchNormal  (None, 14, 14, 512)       2048      \n",
            " ization)                                                        \n",
            "                                                                 \n",
            " conv_dw_10_relu (ReLU)      (None, 14, 14, 512)       0         \n",
            "                                                                 \n",
            " conv_pw_10 (Conv2D)         (None, 14, 14, 512)       262144    \n",
            "                                                                 \n",
            " conv_pw_10_bn (BatchNormal  (None, 14, 14, 512)       2048      \n",
            " ization)                                                        \n",
            "                                                                 \n",
            " conv_pw_10_relu (ReLU)      (None, 14, 14, 512)       0         \n",
            "                                                                 \n",
            " conv_dw_11 (DepthwiseConv2  (None, 14, 14, 512)       4608      \n",
            " D)                                                              \n",
            "                                                                 \n",
            " conv_dw_11_bn (BatchNormal  (None, 14, 14, 512)       2048      \n",
            " ization)                                                        \n",
            "                                                                 \n",
            " conv_dw_11_relu (ReLU)      (None, 14, 14, 512)       0         \n",
            "                                                                 \n",
            " conv_pw_11 (Conv2D)         (None, 14, 14, 512)       262144    \n",
            "                                                                 \n",
            " conv_pw_11_bn (BatchNormal  (None, 14, 14, 512)       2048      \n",
            " ization)                                                        \n",
            "                                                                 \n",
            " conv_pw_11_relu (ReLU)      (None, 14, 14, 512)       0         \n",
            "                                                                 \n",
            " conv_pad_12 (ZeroPadding2D  (None, 15, 15, 512)       0         \n",
            " )                                                               \n",
            "                                                                 \n",
            " conv_dw_12 (DepthwiseConv2  (None, 7, 7, 512)         4608      \n",
            " D)                                                              \n",
            "                                                                 \n",
            " conv_dw_12_bn (BatchNormal  (None, 7, 7, 512)         2048      \n",
            " ization)                                                        \n",
            "                                                                 \n",
            " conv_dw_12_relu (ReLU)      (None, 7, 7, 512)         0         \n",
            "                                                                 \n",
            " conv_pw_12 (Conv2D)         (None, 7, 7, 1024)        524288    \n",
            "                                                                 \n",
            " conv_pw_12_bn (BatchNormal  (None, 7, 7, 1024)        4096      \n",
            " ization)                                                        \n",
            "                                                                 \n",
            " conv_pw_12_relu (ReLU)      (None, 7, 7, 1024)        0         \n",
            "                                                                 \n",
            " conv_dw_13 (DepthwiseConv2  (None, 7, 7, 1024)        9216      \n",
            " D)                                                              \n",
            "                                                                 \n",
            " conv_dw_13_bn (BatchNormal  (None, 7, 7, 1024)        4096      \n",
            " ization)                                                        \n",
            "                                                                 \n",
            " conv_dw_13_relu (ReLU)      (None, 7, 7, 1024)        0         \n",
            "                                                                 \n",
            " conv_pw_13 (Conv2D)         (None, 7, 7, 1024)        1048576   \n",
            "                                                                 \n",
            " conv_pw_13_bn (BatchNormal  (None, 7, 7, 1024)        4096      \n",
            " ization)                                                        \n",
            "                                                                 \n",
            " conv_pw_13_relu (ReLU)      (None, 7, 7, 1024)        0         \n",
            "                                                                 \n",
            " global_average_pooling2d_1  (None, 1, 1, 1024)        0         \n",
            "  (GlobalAveragePooling2D)                                       \n",
            "                                                                 \n",
            " dropout (Dropout)           (None, 1, 1, 1024)        0         \n",
            "                                                                 \n",
            " conv_preds (Conv2D)         (None, 1, 1, 1000)        1025000   \n",
            "                                                                 \n",
            " reshape_2 (Reshape)         (None, 1000)              0         \n",
            "                                                                 \n",
            " predictions (Activation)    (None, 1000)              0         \n",
            "                                                                 \n",
            "=================================================================\n",
            "Total params: 4253864 (16.23 MB)\n",
            "Trainable params: 4231976 (16.14 MB)\n",
            "Non-trainable params: 21888 (85.50 KB)\n",
            "_________________________________________________________________\n"
          ]
        }
      ]
    },
    {
      "cell_type": "code",
      "source": [
        "x = mobile.layers[-5].output\n",
        "\n",
        "x = tf.keras.layers.Reshape(target_shape=(1024,))(x)\n",
        "\n",
        "output = Dense(units=10, activation='softmax')(x)"
      ],
      "metadata": {
        "id": "Yk4NR7ht-ZT0"
      },
      "execution_count": null,
      "outputs": []
    },
    {
      "cell_type": "code",
      "source": [
        "model = Model(inputs=mobile.input, outputs=output)"
      ],
      "metadata": {
        "id": "v41CSwY0-hzs"
      },
      "execution_count": null,
      "outputs": []
    },
    {
      "cell_type": "code",
      "source": [
        "for layer in model.layers[:-10]:\n",
        "    layer.trainable = False"
      ],
      "metadata": {
        "id": "YxJWw-ld-i-0"
      },
      "execution_count": null,
      "outputs": []
    },
    {
      "cell_type": "code",
      "source": [
        "model.summary()"
      ],
      "metadata": {
        "colab": {
          "base_uri": "https://localhost:8080/"
        },
        "id": "VJad0Hyq-ki7",
        "outputId": "305d2c52-25cc-442c-8736-b8cf98a50980"
      },
      "execution_count": null,
      "outputs": [
        {
          "output_type": "stream",
          "name": "stdout",
          "text": [
            "Model: \"model_1\"\n",
            "_________________________________________________________________\n",
            " Layer (type)                Output Shape              Param #   \n",
            "=================================================================\n",
            " input_2 (InputLayer)        [(None, 224, 224, 3)]     0         \n",
            "                                                                 \n",
            " conv1 (Conv2D)              (None, 112, 112, 32)      864       \n",
            "                                                                 \n",
            " conv1_bn (BatchNormalizati  (None, 112, 112, 32)      128       \n",
            " on)                                                             \n",
            "                                                                 \n",
            " conv1_relu (ReLU)           (None, 112, 112, 32)      0         \n",
            "                                                                 \n",
            " conv_dw_1 (DepthwiseConv2D  (None, 112, 112, 32)      288       \n",
            " )                                                               \n",
            "                                                                 \n",
            " conv_dw_1_bn (BatchNormali  (None, 112, 112, 32)      128       \n",
            " zation)                                                         \n",
            "                                                                 \n",
            " conv_dw_1_relu (ReLU)       (None, 112, 112, 32)      0         \n",
            "                                                                 \n",
            " conv_pw_1 (Conv2D)          (None, 112, 112, 64)      2048      \n",
            "                                                                 \n",
            " conv_pw_1_bn (BatchNormali  (None, 112, 112, 64)      256       \n",
            " zation)                                                         \n",
            "                                                                 \n",
            " conv_pw_1_relu (ReLU)       (None, 112, 112, 64)      0         \n",
            "                                                                 \n",
            " conv_pad_2 (ZeroPadding2D)  (None, 113, 113, 64)      0         \n",
            "                                                                 \n",
            " conv_dw_2 (DepthwiseConv2D  (None, 56, 56, 64)        576       \n",
            " )                                                               \n",
            "                                                                 \n",
            " conv_dw_2_bn (BatchNormali  (None, 56, 56, 64)        256       \n",
            " zation)                                                         \n",
            "                                                                 \n",
            " conv_dw_2_relu (ReLU)       (None, 56, 56, 64)        0         \n",
            "                                                                 \n",
            " conv_pw_2 (Conv2D)          (None, 56, 56, 128)       8192      \n",
            "                                                                 \n",
            " conv_pw_2_bn (BatchNormali  (None, 56, 56, 128)       512       \n",
            " zation)                                                         \n",
            "                                                                 \n",
            " conv_pw_2_relu (ReLU)       (None, 56, 56, 128)       0         \n",
            "                                                                 \n",
            " conv_dw_3 (DepthwiseConv2D  (None, 56, 56, 128)       1152      \n",
            " )                                                               \n",
            "                                                                 \n",
            " conv_dw_3_bn (BatchNormali  (None, 56, 56, 128)       512       \n",
            " zation)                                                         \n",
            "                                                                 \n",
            " conv_dw_3_relu (ReLU)       (None, 56, 56, 128)       0         \n",
            "                                                                 \n",
            " conv_pw_3 (Conv2D)          (None, 56, 56, 128)       16384     \n",
            "                                                                 \n",
            " conv_pw_3_bn (BatchNormali  (None, 56, 56, 128)       512       \n",
            " zation)                                                         \n",
            "                                                                 \n",
            " conv_pw_3_relu (ReLU)       (None, 56, 56, 128)       0         \n",
            "                                                                 \n",
            " conv_pad_4 (ZeroPadding2D)  (None, 57, 57, 128)       0         \n",
            "                                                                 \n",
            " conv_dw_4 (DepthwiseConv2D  (None, 28, 28, 128)       1152      \n",
            " )                                                               \n",
            "                                                                 \n",
            " conv_dw_4_bn (BatchNormali  (None, 28, 28, 128)       512       \n",
            " zation)                                                         \n",
            "                                                                 \n",
            " conv_dw_4_relu (ReLU)       (None, 28, 28, 128)       0         \n",
            "                                                                 \n",
            " conv_pw_4 (Conv2D)          (None, 28, 28, 256)       32768     \n",
            "                                                                 \n",
            " conv_pw_4_bn (BatchNormali  (None, 28, 28, 256)       1024      \n",
            " zation)                                                         \n",
            "                                                                 \n",
            " conv_pw_4_relu (ReLU)       (None, 28, 28, 256)       0         \n",
            "                                                                 \n",
            " conv_dw_5 (DepthwiseConv2D  (None, 28, 28, 256)       2304      \n",
            " )                                                               \n",
            "                                                                 \n",
            " conv_dw_5_bn (BatchNormali  (None, 28, 28, 256)       1024      \n",
            " zation)                                                         \n",
            "                                                                 \n",
            " conv_dw_5_relu (ReLU)       (None, 28, 28, 256)       0         \n",
            "                                                                 \n",
            " conv_pw_5 (Conv2D)          (None, 28, 28, 256)       65536     \n",
            "                                                                 \n",
            " conv_pw_5_bn (BatchNormali  (None, 28, 28, 256)       1024      \n",
            " zation)                                                         \n",
            "                                                                 \n",
            " conv_pw_5_relu (ReLU)       (None, 28, 28, 256)       0         \n",
            "                                                                 \n",
            " conv_pad_6 (ZeroPadding2D)  (None, 29, 29, 256)       0         \n",
            "                                                                 \n",
            " conv_dw_6 (DepthwiseConv2D  (None, 14, 14, 256)       2304      \n",
            " )                                                               \n",
            "                                                                 \n",
            " conv_dw_6_bn (BatchNormali  (None, 14, 14, 256)       1024      \n",
            " zation)                                                         \n",
            "                                                                 \n",
            " conv_dw_6_relu (ReLU)       (None, 14, 14, 256)       0         \n",
            "                                                                 \n",
            " conv_pw_6 (Conv2D)          (None, 14, 14, 512)       131072    \n",
            "                                                                 \n",
            " conv_pw_6_bn (BatchNormali  (None, 14, 14, 512)       2048      \n",
            " zation)                                                         \n",
            "                                                                 \n",
            " conv_pw_6_relu (ReLU)       (None, 14, 14, 512)       0         \n",
            "                                                                 \n",
            " conv_dw_7 (DepthwiseConv2D  (None, 14, 14, 512)       4608      \n",
            " )                                                               \n",
            "                                                                 \n",
            " conv_dw_7_bn (BatchNormali  (None, 14, 14, 512)       2048      \n",
            " zation)                                                         \n",
            "                                                                 \n",
            " conv_dw_7_relu (ReLU)       (None, 14, 14, 512)       0         \n",
            "                                                                 \n",
            " conv_pw_7 (Conv2D)          (None, 14, 14, 512)       262144    \n",
            "                                                                 \n",
            " conv_pw_7_bn (BatchNormali  (None, 14, 14, 512)       2048      \n",
            " zation)                                                         \n",
            "                                                                 \n",
            " conv_pw_7_relu (ReLU)       (None, 14, 14, 512)       0         \n",
            "                                                                 \n",
            " conv_dw_8 (DepthwiseConv2D  (None, 14, 14, 512)       4608      \n",
            " )                                                               \n",
            "                                                                 \n",
            " conv_dw_8_bn (BatchNormali  (None, 14, 14, 512)       2048      \n",
            " zation)                                                         \n",
            "                                                                 \n",
            " conv_dw_8_relu (ReLU)       (None, 14, 14, 512)       0         \n",
            "                                                                 \n",
            " conv_pw_8 (Conv2D)          (None, 14, 14, 512)       262144    \n",
            "                                                                 \n",
            " conv_pw_8_bn (BatchNormali  (None, 14, 14, 512)       2048      \n",
            " zation)                                                         \n",
            "                                                                 \n",
            " conv_pw_8_relu (ReLU)       (None, 14, 14, 512)       0         \n",
            "                                                                 \n",
            " conv_dw_9 (DepthwiseConv2D  (None, 14, 14, 512)       4608      \n",
            " )                                                               \n",
            "                                                                 \n",
            " conv_dw_9_bn (BatchNormali  (None, 14, 14, 512)       2048      \n",
            " zation)                                                         \n",
            "                                                                 \n",
            " conv_dw_9_relu (ReLU)       (None, 14, 14, 512)       0         \n",
            "                                                                 \n",
            " conv_pw_9 (Conv2D)          (None, 14, 14, 512)       262144    \n",
            "                                                                 \n",
            " conv_pw_9_bn (BatchNormali  (None, 14, 14, 512)       2048      \n",
            " zation)                                                         \n",
            "                                                                 \n",
            " conv_pw_9_relu (ReLU)       (None, 14, 14, 512)       0         \n",
            "                                                                 \n",
            " conv_dw_10 (DepthwiseConv2  (None, 14, 14, 512)       4608      \n",
            " D)                                                              \n",
            "                                                                 \n",
            " conv_dw_10_bn (BatchNormal  (None, 14, 14, 512)       2048      \n",
            " ization)                                                        \n",
            "                                                                 \n",
            " conv_dw_10_relu (ReLU)      (None, 14, 14, 512)       0         \n",
            "                                                                 \n",
            " conv_pw_10 (Conv2D)         (None, 14, 14, 512)       262144    \n",
            "                                                                 \n",
            " conv_pw_10_bn (BatchNormal  (None, 14, 14, 512)       2048      \n",
            " ization)                                                        \n",
            "                                                                 \n",
            " conv_pw_10_relu (ReLU)      (None, 14, 14, 512)       0         \n",
            "                                                                 \n",
            " conv_dw_11 (DepthwiseConv2  (None, 14, 14, 512)       4608      \n",
            " D)                                                              \n",
            "                                                                 \n",
            " conv_dw_11_bn (BatchNormal  (None, 14, 14, 512)       2048      \n",
            " ization)                                                        \n",
            "                                                                 \n",
            " conv_dw_11_relu (ReLU)      (None, 14, 14, 512)       0         \n",
            "                                                                 \n",
            " conv_pw_11 (Conv2D)         (None, 14, 14, 512)       262144    \n",
            "                                                                 \n",
            " conv_pw_11_bn (BatchNormal  (None, 14, 14, 512)       2048      \n",
            " ization)                                                        \n",
            "                                                                 \n",
            " conv_pw_11_relu (ReLU)      (None, 14, 14, 512)       0         \n",
            "                                                                 \n",
            " conv_pad_12 (ZeroPadding2D  (None, 15, 15, 512)       0         \n",
            " )                                                               \n",
            "                                                                 \n",
            " conv_dw_12 (DepthwiseConv2  (None, 7, 7, 512)         4608      \n",
            " D)                                                              \n",
            "                                                                 \n",
            " conv_dw_12_bn (BatchNormal  (None, 7, 7, 512)         2048      \n",
            " ization)                                                        \n",
            "                                                                 \n",
            " conv_dw_12_relu (ReLU)      (None, 7, 7, 512)         0         \n",
            "                                                                 \n",
            " conv_pw_12 (Conv2D)         (None, 7, 7, 1024)        524288    \n",
            "                                                                 \n",
            " conv_pw_12_bn (BatchNormal  (None, 7, 7, 1024)        4096      \n",
            " ization)                                                        \n",
            "                                                                 \n",
            " conv_pw_12_relu (ReLU)      (None, 7, 7, 1024)        0         \n",
            "                                                                 \n",
            " conv_dw_13 (DepthwiseConv2  (None, 7, 7, 1024)        9216      \n",
            " D)                                                              \n",
            "                                                                 \n",
            " conv_dw_13_bn (BatchNormal  (None, 7, 7, 1024)        4096      \n",
            " ization)                                                        \n",
            "                                                                 \n",
            " conv_dw_13_relu (ReLU)      (None, 7, 7, 1024)        0         \n",
            "                                                                 \n",
            " conv_pw_13 (Conv2D)         (None, 7, 7, 1024)        1048576   \n",
            "                                                                 \n",
            " conv_pw_13_bn (BatchNormal  (None, 7, 7, 1024)        4096      \n",
            " ization)                                                        \n",
            "                                                                 \n",
            " conv_pw_13_relu (ReLU)      (None, 7, 7, 1024)        0         \n",
            "                                                                 \n",
            " global_average_pooling2d_1  (None, 1, 1, 1024)        0         \n",
            "  (GlobalAveragePooling2D)                                       \n",
            "                                                                 \n",
            " reshape_1 (Reshape)         (None, 1024)              0         \n",
            "                                                                 \n",
            " dense_1 (Dense)             (None, 10)                10250     \n",
            "                                                                 \n",
            "=================================================================\n",
            "Total params: 3239114 (12.36 MB)\n",
            "Trainable params: 1072138 (4.09 MB)\n",
            "Non-trainable params: 2166976 (8.27 MB)\n",
            "_________________________________________________________________\n"
          ]
        }
      ]
    },
    {
      "cell_type": "code",
      "source": [
        "model.compile(optimizer=Adam(learning_rate=0.0001), loss='categorical_crossentropy', metrics=['accuracy'])"
      ],
      "metadata": {
        "id": "yH-hRGS7-mdr"
      },
      "execution_count": null,
      "outputs": []
    },
    {
      "cell_type": "code",
      "source": [
        "history = model.fit(x=train_batches,\n",
        "            steps_per_epoch=len(train_batches),\n",
        "            validation_data=valid_batches,\n",
        "            validation_steps=len(valid_batches),\n",
        "            epochs=10,\n",
        "            verbose=2\n",
        ")\n"
      ],
      "metadata": {
        "colab": {
          "base_uri": "https://localhost:8080/"
        },
        "id": "hlu5Yxxa-mnc",
        "outputId": "2d06667f-53cd-4a84-e99a-bbe526c9aeab"
      },
      "execution_count": null,
      "outputs": [
        {
          "output_type": "stream",
          "name": "stdout",
          "text": [
            "Epoch 1/10\n",
            "172/172 - 7s - loss: 0.8651 - accuracy: 0.7307 - val_loss: 0.6585 - val_accuracy: 0.7800 - 7s/epoch - 43ms/step\n",
            "Epoch 2/10\n",
            "172/172 - 4s - loss: 0.2525 - accuracy: 0.9468 - val_loss: 0.2311 - val_accuracy: 0.9467 - 4s/epoch - 21ms/step\n",
            "Epoch 3/10\n",
            "172/172 - 4s - loss: 0.1562 - accuracy: 0.9807 - val_loss: 0.1443 - val_accuracy: 0.9700 - 4s/epoch - 21ms/step\n",
            "Epoch 4/10\n",
            "172/172 - 5s - loss: 0.1008 - accuracy: 0.9871 - val_loss: 0.1181 - val_accuracy: 0.9700 - 5s/epoch - 28ms/step\n",
            "Epoch 5/10\n",
            "172/172 - 7s - loss: 0.0707 - accuracy: 0.9947 - val_loss: 0.0950 - val_accuracy: 0.9867 - 7s/epoch - 38ms/step\n",
            "Epoch 6/10\n",
            "172/172 - 8s - loss: 0.0574 - accuracy: 0.9947 - val_loss: 0.0878 - val_accuracy: 0.9767 - 8s/epoch - 47ms/step\n",
            "Epoch 7/10\n",
            "172/172 - 4s - loss: 0.0497 - accuracy: 0.9947 - val_loss: 0.0827 - val_accuracy: 0.9800 - 4s/epoch - 23ms/step\n",
            "Epoch 8/10\n",
            "172/172 - 4s - loss: 0.0338 - accuracy: 0.9965 - val_loss: 0.0747 - val_accuracy: 0.9900 - 4s/epoch - 23ms/step\n",
            "Epoch 9/10\n",
            "172/172 - 4s - loss: 0.0295 - accuracy: 0.9988 - val_loss: 0.0707 - val_accuracy: 0.9767 - 4s/epoch - 21ms/step\n",
            "Epoch 10/10\n",
            "172/172 - 4s - loss: 0.0252 - accuracy: 0.9988 - val_loss: 0.0720 - val_accuracy: 0.9800 - 4s/epoch - 21ms/step\n"
          ]
        }
      ]
    },
    {
      "cell_type": "code",
      "source": [
        "acc = history.history['accuracy']\n",
        "val_acc = history.history['val_accuracy']\n",
        "\n",
        "loss = history.history['loss']\n",
        "val_loss = history.history['val_loss']\n",
        "\n",
        "plt.figure(figsize=(8, 8))\n",
        "plt.subplot(2, 1, 1)\n",
        "plt.plot(acc, label='Training Accuracy')\n",
        "plt.plot(val_acc, label='Validation Accuracy')\n",
        "plt.legend(loc='lower right')\n",
        "plt.ylabel('Accuracy')\n",
        "plt.ylim([min(plt.ylim()),1])\n",
        "plt.title('Training and Validation Accuracy')\n",
        "\n",
        "plt.subplot(2, 1, 2)\n",
        "plt.plot(loss, label='Training Loss')\n",
        "plt.plot(val_loss, label='Validation Loss')\n",
        "plt.legend(loc='upper right')\n",
        "plt.ylabel('Cross Entropy')\n",
        "plt.ylim([0,1.0])\n",
        "plt.title('Training and Validation Loss')\n",
        "plt.xlabel('epoch')\n",
        "plt.show()"
      ],
      "metadata": {
        "colab": {
          "base_uri": "https://localhost:8080/",
          "height": 718
        },
        "id": "7yWzMzbb-zh0",
        "outputId": "6d9d23e4-4435-440e-a1c1-1a8ca35c3f05"
      },
      "execution_count": null,
      "outputs": [
        {
          "output_type": "display_data",
          "data": {
            "text/plain": [
              "<Figure size 800x800 with 2 Axes>"
            ],
            "image/png": "[encoded data removed]"
          },
          "metadata": {}
        }
      ]
    },
    {
      "cell_type": "code",
      "source": [
        "test_labels = test_batches.classes\n",
        "predictions = model.predict(x=test_batches, steps=len(test_batches), verbose=0)\n",
        "cm = confusion_matrix(y_true=test_labels, y_pred=predictions.argmax(axis=1))"
      ],
      "metadata": {
        "id": "ntoHqhFq-oLE"
      },
      "execution_count": null,
      "outputs": []
    },
    {
      "cell_type": "code",
      "source": [
        "def plot_confusion_matrix(cm, classes,\n",
        "                          normalize=False,\n",
        "                          title='Confusion matrix',\n",
        "                          cmap=plt.cm.Blues):\n",
        "    \"\"\"\n",
        "    This function prints and plots the confusion matrix.\n",
        "    Normalization can be applied by setting `normalize=True`.\n",
        "    \"\"\"\n",
        "    plt.imshow(cm, interpolation='nearest', cmap=cmap)\n",
        "    plt.title(title)\n",
        "    plt.colorbar()\n",
        "    tick_marks = np.arange(len(classes))\n",
        "    plt.xticks(tick_marks, classes, rotation=45)\n",
        "    plt.yticks(tick_marks, classes)\n",
        "\n",
        "    if normalize:\n",
        "        cm = cm.astype('float') / cm.sum(axis=1)[:, np.newaxis]\n",
        "        print(\"Normalized confusion matrix\")\n",
        "    else:\n",
        "        print('Confusion matrix, without normalization')\n",
        "\n",
        "    print(cm)\n",
        "\n",
        "    thresh = cm.max() / 2.\n",
        "    for i, j in itertools.product(range(cm.shape[0]), range(cm.shape[1])):\n",
        "        plt.text(j, i, cm[i, j],\n",
        "            horizontalalignment=\"center\",\n",
        "            color=\"white\" if cm[i, j] > thresh else \"black\")\n",
        "\n",
        "    plt.tight_layout()\n",
        "    plt.ylabel('True label')\n",
        "    plt.xlabel('Predicted label')"
      ],
      "metadata": {
        "id": "1yA6PVC1-t-M"
      },
      "execution_count": null,
      "outputs": []
    },
    {
      "cell_type": "code",
      "source": [
        "test_batches.class_indices"
      ],
      "metadata": {
        "colab": {
          "base_uri": "https://localhost:8080/"
        },
        "id": "Is6IvzEN-vCk",
        "outputId": "37a67b41-d034-4da3-cd3d-fb46a8f9ec19"
      },
      "execution_count": null,
      "outputs": [
        {
          "output_type": "execute_result",
          "data": {
            "text/plain": [
              "{'0': 0,\n",
              " '1': 1,\n",
              " '2': 2,\n",
              " '3': 3,\n",
              " '4': 4,\n",
              " '5': 5,\n",
              " '6': 6,\n",
              " '7': 7,\n",
              " '8': 8,\n",
              " '9': 9}"
            ]
          },
          "metadata": {},
          "execution_count": 38
        }
      ]
    },
    {
      "cell_type": "code",
      "source": [
        "cm_plot_labels = ['0','1','2','3','4','5','6','7','8','9']\n",
        "plot_confusion_matrix(cm=cm, classes=cm_plot_labels, title='Confusion Matrix')"
      ],
      "metadata": {
        "colab": {
          "base_uri": "https://localhost:8080/",
          "height": 707
        },
        "id": "QlCjmHJp-wJ-",
        "outputId": "d358826a-18c6-46cb-99e9-a731908c0c90"
      },
      "execution_count": null,
      "outputs": [
        {
          "output_type": "stream",
          "name": "stdout",
          "text": [
            "Confusion matrix, without normalization\n",
            "[[5 0 0 0 0 0 0 0 0 0]\n",
            " [0 5 0 0 0 0 0 0 0 0]\n",
            " [0 0 5 0 0 0 0 0 0 0]\n",
            " [0 0 0 5 0 0 0 0 0 0]\n",
            " [0 0 0 0 4 1 0 0 0 0]\n",
            " [0 0 0 0 0 5 0 0 0 0]\n",
            " [0 0 0 0 0 0 5 0 0 0]\n",
            " [0 0 0 0 0 0 0 5 0 0]\n",
            " [0 0 0 0 0 0 0 0 5 0]\n",
            " [0 0 0 0 0 0 0 0 0 5]]\n"
          ]
        },
        {
          "output_type": "display_data",
          "data": {
            "text/plain": [
              "<Figure size 640x480 with 2 Axes>"
            ],
            "image/png": "[encoded data removed]"
          },
          "metadata": {}
        }
      ]
    }
  ],
  "metadata": {
    "colab": {
      "provenance": [],
      "gpuType": "T4",
      "authorship_tag": "ABX9TyMzOTa02ur4XdhUpvVcq6C+",
      "include_colab_link": true
    },
    "kernelspec": {
      "display_name": "Python 3",
      "name": "python3"
    },
    "language_info": {
      "name": "python"
    },
    "accelerator": "GPU"
  },
  "nbformat": 4,
  "nbformat_minor": 0
}